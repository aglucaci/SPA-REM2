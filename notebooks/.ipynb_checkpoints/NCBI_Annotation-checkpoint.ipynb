{
 "cells": [
  {
   "cell_type": "code",
   "execution_count": 31,
   "id": "03cfb513-e3ff-4290-9acc-0a2b141de2b8",
   "metadata": {},
   "outputs": [],
   "source": [
    "import pandas as pd\n",
    "import numpy as np\n",
    "import scipy\n",
    "#import stats\n",
    "import os\n",
    "import sys\n",
    "from Bio import Entrez\n",
    "import json\n"
   ]
  },
  {
   "cell_type": "code",
   "execution_count": 11,
   "id": "4efd02b1",
   "metadata": {},
   "outputs": [
    {
     "name": "stdout",
     "output_type": "stream",
     "text": [
      "Reading ... ../data/Rem2_orthologs.csv\n"
     ]
    }
   ],
   "source": [
    "data = os.path.join(\"..\", \n",
    "                    \"data\", \n",
    "                    \"Rem2_orthologs.csv\")\n",
    "\n",
    "# *Always* tell NCBI who you are\n",
    "Entrez.email = \"aglucaci@gmail.com\"\n",
    "\n",
    "print(\"Reading ...\", data)"
   ]
  },
  {
   "cell_type": "code",
   "execution_count": 3,
   "id": "1db4cb80-d5ce-40df-8d3e-435b1a681a19",
   "metadata": {},
   "outputs": [],
   "source": [
    "df = pd.read_csv(data)"
   ]
  },
  {
   "cell_type": "code",
   "execution_count": 4,
   "id": "635441af",
   "metadata": {},
   "outputs": [
    {
     "data": {
      "text/html": [
       "<div>\n",
       "<style scoped>\n",
       "    .dataframe tbody tr th:only-of-type {\n",
       "        vertical-align: middle;\n",
       "    }\n",
       "\n",
       "    .dataframe tbody tr th {\n",
       "        vertical-align: top;\n",
       "    }\n",
       "\n",
       "    .dataframe thead th {\n",
       "        text-align: right;\n",
       "    }\n",
       "</style>\n",
       "<table border=\"1\" class=\"dataframe\">\n",
       "  <thead>\n",
       "    <tr style=\"text-align: right;\">\n",
       "      <th></th>\n",
       "      <th>Gene ID</th>\n",
       "      <th>Gene symbol</th>\n",
       "      <th>Description</th>\n",
       "      <th>Scientific name</th>\n",
       "      <th>Common name</th>\n",
       "      <th>RefSeq Transcript accessions</th>\n",
       "      <th>RefSeq Protein accessions</th>\n",
       "      <th>SPARCLE ID</th>\n",
       "      <th>Curation Status</th>\n",
       "      <th>RefseqSelect</th>\n",
       "      <th>Default sequence</th>\n",
       "    </tr>\n",
       "  </thead>\n",
       "  <tbody>\n",
       "    <tr>\n",
       "      <th>0</th>\n",
       "      <td>64626</td>\n",
       "      <td>Rem2</td>\n",
       "      <td>RRAD and GEM like GTPase 2</td>\n",
       "      <td>Rattus norvegicus</td>\n",
       "      <td>Norway rat</td>\n",
       "      <td>NM_022685.2</td>\n",
       "      <td>NP_073176.2</td>\n",
       "      <td>10134947.0</td>\n",
       "      <td>curated</td>\n",
       "      <td>NaN</td>\n",
       "      <td>default-seq</td>\n",
       "    </tr>\n",
       "    <tr>\n",
       "      <th>1</th>\n",
       "      <td>140743</td>\n",
       "      <td>Rem2</td>\n",
       "      <td>rad and gem related GTP binding protein 2</td>\n",
       "      <td>Mus musculus</td>\n",
       "      <td>house mouse</td>\n",
       "      <td>NM_080726.3</td>\n",
       "      <td>NP_542764.2</td>\n",
       "      <td>10134947.0</td>\n",
       "      <td>curated</td>\n",
       "      <td>RefseqSelect</td>\n",
       "      <td>default-seq</td>\n",
       "    </tr>\n",
       "    <tr>\n",
       "      <th>2</th>\n",
       "      <td>161253</td>\n",
       "      <td>REM2</td>\n",
       "      <td>RRAD and GEM like GTPase 2</td>\n",
       "      <td>Homo sapiens</td>\n",
       "      <td>human</td>\n",
       "      <td>NM_173527.3</td>\n",
       "      <td>NP_775798.2</td>\n",
       "      <td>10134947.0</td>\n",
       "      <td>curated</td>\n",
       "      <td>RefseqSelect</td>\n",
       "      <td>default-seq</td>\n",
       "    </tr>\n",
       "    <tr>\n",
       "      <th>3</th>\n",
       "      <td>467399</td>\n",
       "      <td>REM2</td>\n",
       "      <td>RRAD and GEM like GTPase 2</td>\n",
       "      <td>Pan troglodytes</td>\n",
       "      <td>chimpanzee</td>\n",
       "      <td>XM_009427474.3</td>\n",
       "      <td>XP_009425749.1</td>\n",
       "      <td>10134947.0</td>\n",
       "      <td>model</td>\n",
       "      <td>NaN</td>\n",
       "      <td>default-seq</td>\n",
       "    </tr>\n",
       "    <tr>\n",
       "      <th>4</th>\n",
       "      <td>490603</td>\n",
       "      <td>REM2</td>\n",
       "      <td>RRAD and GEM like GTPase 2</td>\n",
       "      <td>Canis lupus familiaris</td>\n",
       "      <td>dog</td>\n",
       "      <td>XM_005623217.4</td>\n",
       "      <td>XP_005623274.2</td>\n",
       "      <td>NaN</td>\n",
       "      <td>model</td>\n",
       "      <td>NaN</td>\n",
       "      <td>default-seq</td>\n",
       "    </tr>\n",
       "    <tr>\n",
       "      <th>...</th>\n",
       "      <td>...</td>\n",
       "      <td>...</td>\n",
       "      <td>...</td>\n",
       "      <td>...</td>\n",
       "      <td>...</td>\n",
       "      <td>...</td>\n",
       "      <td>...</td>\n",
       "      <td>...</td>\n",
       "      <td>...</td>\n",
       "      <td>...</td>\n",
       "      <td>...</td>\n",
       "    </tr>\n",
       "    <tr>\n",
       "      <th>181</th>\n",
       "      <td>126958288</td>\n",
       "      <td>LOC126958288</td>\n",
       "      <td>RRAD and GEM like GTPase 2</td>\n",
       "      <td>Macaca thibetana thibetana</td>\n",
       "      <td>NaN</td>\n",
       "      <td>XM_050796554.1</td>\n",
       "      <td>XP_050652511.1</td>\n",
       "      <td>NaN</td>\n",
       "      <td>model</td>\n",
       "      <td>NaN</td>\n",
       "      <td>default-seq</td>\n",
       "    </tr>\n",
       "    <tr>\n",
       "      <th>182</th>\n",
       "      <td>127187235</td>\n",
       "      <td>LOC127187235</td>\n",
       "      <td>RRAD and GEM like GTPase 2</td>\n",
       "      <td>Acomys russatus</td>\n",
       "      <td>golden spiny mouse</td>\n",
       "      <td>XM_051143407.1</td>\n",
       "      <td>XP_050999364.1</td>\n",
       "      <td>NaN</td>\n",
       "      <td>model</td>\n",
       "      <td>NaN</td>\n",
       "      <td>default-seq</td>\n",
       "    </tr>\n",
       "    <tr>\n",
       "      <th>183</th>\n",
       "      <td>127230422</td>\n",
       "      <td>LOC127230422</td>\n",
       "      <td>RRAD and GEM like GTPase 2</td>\n",
       "      <td>Phodopus roborovskii</td>\n",
       "      <td>desert hamster</td>\n",
       "      <td>XM_051195738.1</td>\n",
       "      <td>XP_051051695.1</td>\n",
       "      <td>NaN</td>\n",
       "      <td>model</td>\n",
       "      <td>NaN</td>\n",
       "      <td>default-seq</td>\n",
       "    </tr>\n",
       "    <tr>\n",
       "      <th>184</th>\n",
       "      <td>127551038</td>\n",
       "      <td>LOC127551038</td>\n",
       "      <td>RRAD and GEM like GTPase 2</td>\n",
       "      <td>Antechinus flavipes</td>\n",
       "      <td>yellow-footed antechinus</td>\n",
       "      <td>XM_051980438.1</td>\n",
       "      <td>XP_051836398.1</td>\n",
       "      <td>NaN</td>\n",
       "      <td>model</td>\n",
       "      <td>NaN</td>\n",
       "      <td>default-seq</td>\n",
       "    </tr>\n",
       "    <tr>\n",
       "      <th>185</th>\n",
       "      <td>127690950</td>\n",
       "      <td>LOC127690950</td>\n",
       "      <td>RRAD and GEM like GTPase 2</td>\n",
       "      <td>Apodemus sylvaticus</td>\n",
       "      <td>European woodmouse</td>\n",
       "      <td>XM_052190525.1</td>\n",
       "      <td>XP_052046485.1</td>\n",
       "      <td>NaN</td>\n",
       "      <td>model</td>\n",
       "      <td>NaN</td>\n",
       "      <td>default-seq</td>\n",
       "    </tr>\n",
       "  </tbody>\n",
       "</table>\n",
       "<p>186 rows × 11 columns</p>\n",
       "</div>"
      ],
      "text/plain": [
       "       Gene ID   Gene symbol                                Description  \\\n",
       "0        64626          Rem2                 RRAD and GEM like GTPase 2   \n",
       "1       140743          Rem2  rad and gem related GTP binding protein 2   \n",
       "2       161253          REM2                 RRAD and GEM like GTPase 2   \n",
       "3       467399          REM2                 RRAD and GEM like GTPase 2   \n",
       "4       490603          REM2                 RRAD and GEM like GTPase 2   \n",
       "..         ...           ...                                        ...   \n",
       "181  126958288  LOC126958288                 RRAD and GEM like GTPase 2   \n",
       "182  127187235  LOC127187235                 RRAD and GEM like GTPase 2   \n",
       "183  127230422  LOC127230422                 RRAD and GEM like GTPase 2   \n",
       "184  127551038  LOC127551038                 RRAD and GEM like GTPase 2   \n",
       "185  127690950  LOC127690950                 RRAD and GEM like GTPase 2   \n",
       "\n",
       "                Scientific name               Common name  \\\n",
       "0             Rattus norvegicus                Norway rat   \n",
       "1                  Mus musculus               house mouse   \n",
       "2                  Homo sapiens                     human   \n",
       "3               Pan troglodytes                chimpanzee   \n",
       "4        Canis lupus familiaris                       dog   \n",
       "..                          ...                       ...   \n",
       "181  Macaca thibetana thibetana                       NaN   \n",
       "182             Acomys russatus        golden spiny mouse   \n",
       "183        Phodopus roborovskii            desert hamster   \n",
       "184         Antechinus flavipes  yellow-footed antechinus   \n",
       "185         Apodemus sylvaticus        European woodmouse   \n",
       "\n",
       "    RefSeq Transcript accessions RefSeq Protein accessions  SPARCLE ID  \\\n",
       "0                    NM_022685.2               NP_073176.2  10134947.0   \n",
       "1                    NM_080726.3               NP_542764.2  10134947.0   \n",
       "2                    NM_173527.3               NP_775798.2  10134947.0   \n",
       "3                 XM_009427474.3            XP_009425749.1  10134947.0   \n",
       "4                 XM_005623217.4            XP_005623274.2         NaN   \n",
       "..                           ...                       ...         ...   \n",
       "181               XM_050796554.1            XP_050652511.1         NaN   \n",
       "182               XM_051143407.1            XP_050999364.1         NaN   \n",
       "183               XM_051195738.1            XP_051051695.1         NaN   \n",
       "184               XM_051980438.1            XP_051836398.1         NaN   \n",
       "185               XM_052190525.1            XP_052046485.1         NaN   \n",
       "\n",
       "    Curation Status  RefseqSelect Default sequence  \n",
       "0           curated           NaN      default-seq  \n",
       "1           curated  RefseqSelect      default-seq  \n",
       "2           curated  RefseqSelect      default-seq  \n",
       "3             model           NaN      default-seq  \n",
       "4             model           NaN      default-seq  \n",
       "..              ...           ...              ...  \n",
       "181           model           NaN      default-seq  \n",
       "182           model           NaN      default-seq  \n",
       "183           model           NaN      default-seq  \n",
       "184           model           NaN      default-seq  \n",
       "185           model           NaN      default-seq  \n",
       "\n",
       "[186 rows x 11 columns]"
      ]
     },
     "execution_count": 4,
     "metadata": {},
     "output_type": "execute_result"
    }
   ],
   "source": [
    "df"
   ]
  },
  {
   "cell_type": "code",
   "execution_count": 19,
   "id": "8d3a294e",
   "metadata": {},
   "outputs": [],
   "source": [
    "def retrieve_annotation(id_list):\n",
    "\n",
    "    \"\"\"Annotates Entrez Gene IDs using Bio.Entrez, in particular epost (to\n",
    "    submit the data to NCBI) and esummary to retrieve the information.\n",
    "    Returns a list of dictionaries with the annotations.\"\"\"\n",
    "\n",
    "    request = Entrez.epost(\"protein\", id=\",\".join(id_list))\n",
    "    try:\n",
    "        result = Entrez.read(request)\n",
    "    except RuntimeError as e:\n",
    "        # FIXME: How generate NAs instead of causing an error with invalid IDs?\n",
    "        print(\"An error occurred while retrieving the annotations.\")\n",
    "        print(\"The error returned was %s\" % e)\n",
    "        sys.exit(-1)\n",
    "    #end try\n",
    "    \n",
    "    print([result])\n",
    "\n",
    "    webEnv = result[\"WebEnv\"]\n",
    "    queryKey = result[\"QueryKey\"]\n",
    "    \n",
    "    #Next step\n",
    "    data = Entrez.esummary(db=\"protein\", webenv=webEnv, query_key=queryKey)\n",
    "    annotations = Entrez.read(data)\n",
    "\n",
    "    print(\"Retrieved %d annotations for %d genes\" % (len(annotations), len(id_list)))\n",
    "\n",
    "    return annotations"
   ]
  },
  {
   "cell_type": "code",
   "execution_count": 20,
   "id": "774ae580",
   "metadata": {},
   "outputs": [
    {
     "name": "stdout",
     "output_type": "stream",
     "text": [
      "[{'QueryKey': '1', 'WebEnv': 'MCID_649613dc6126a2290935178b'}]\n",
      "Retrieved 1 annotations for 1 genes\n"
     ]
    },
    {
     "data": {
      "text/plain": [
       "[{'Item': [], 'Id': '124248562', 'Caption': 'NP_775798', 'Title': 'GTP-binding protein REM 2 [Homo sapiens]', 'Extra': 'gi|124248562|ref|NP_775798.2|[124248562]', 'Gi': IntegerElement(124248562, attributes={}), 'CreateDate': '2003/01/14', 'UpdateDate': '2023/03/12', 'Flags': IntegerElement(512, attributes={}), 'TaxId': IntegerElement(9606, attributes={}), 'Length': IntegerElement(340, attributes={}), 'Status': 'live', 'ReplacedBy': '', 'Comment': '  ', 'AccessionVersion': 'NP_775798.2'}]"
      ]
     },
     "execution_count": 20,
     "metadata": {},
     "output_type": "execute_result"
    }
   ],
   "source": [
    "retrieve_annotation([\"NP_775798.2\"])"
   ]
  },
  {
   "cell_type": "code",
   "execution_count": null,
   "id": "24b7779b",
   "metadata": {},
   "outputs": [],
   "source": [
    "\"\"\"\n",
    "handle = Entrez.efetch(db=\"nucleotide\", id=\"186972394\", rettype=\"gb\", retmode=\"text\")\n",
    "print(handle.read())\n",
    "\n",
    "\"\"\""
   ]
  },
  {
   "cell_type": "code",
   "execution_count": 27,
   "id": "2d419f42",
   "metadata": {},
   "outputs": [],
   "source": [
    "handle = Entrez.efetch(db=\"protein\", id=\"124248562\", rettype=\"gb\", retmode=\"xml\")\n",
    "#print(handle.read())"
   ]
  },
  {
   "cell_type": "code",
   "execution_count": 28,
   "id": "6c8e3e37",
   "metadata": {},
   "outputs": [
    {
     "data": {
      "text/plain": [
       "<http.client.HTTPResponse at 0x12f58de80>"
      ]
     },
     "execution_count": 28,
     "metadata": {},
     "output_type": "execute_result"
    }
   ],
   "source": [
    "handle"
   ]
  },
  {
   "cell_type": "code",
   "execution_count": 30,
   "id": "07968401",
   "metadata": {
    "scrolled": false
   },
   "outputs": [
    {
     "data": {
      "text/plain": [
       "{'GBSeq_locus': 'NP_775798', 'GBSeq_length': '340', 'GBSeq_moltype': 'AA', 'GBSeq_topology': 'linear', 'GBSeq_division': 'PRI', 'GBSeq_update-date': '12-MAR-2023', 'GBSeq_create-date': '14-JAN-2003', 'GBSeq_definition': 'GTP-binding protein REM 2 [Homo sapiens]', 'GBSeq_primary-accession': 'NP_775798', 'GBSeq_accession-version': 'NP_775798.2', 'GBSeq_other-seqids': ['ref|NP_775798.2|', 'gi|124248562'], 'GBSeq_keywords': ['RefSeq', 'MANE Select'], 'GBSeq_source': 'Homo sapiens (human)', 'GBSeq_organism': 'Homo sapiens', 'GBSeq_taxonomy': 'Eukaryota; Metazoa; Chordata; Craniata; Vertebrata; Euteleostomi; Mammalia; Eutheria; Euarchontoglires; Primates; Haplorrhini; Catarrhini; Hominidae; Homo', 'GBSeq_references': [{'GBReference_reference': '1', 'GBReference_position': '1..340', 'GBReference_authors': ['Luck K', 'Kim DK', 'Lambourne L', 'Spirohn K', 'Begg BE', 'Bian W', 'Brignall R', 'Cafarelli T', 'Campos-Laborie FJ', 'Charloteaux B', 'Choi D', 'Cote AG', 'Daley M', 'Deimling S', 'Desbuleux A', 'Dricot A', 'Gebbia M', 'Hardy MF', 'Kishore N', 'Knapp JJ', 'Kovacs IA', 'Lemmens I', 'Mee MW', 'Mellor JC', 'Pollis C', 'Pons C', 'Richardson AD', 'Schlabach S', 'Teeking B', 'Yadav A', 'Babor M', 'Balcha D', 'Basha O', 'Bowman-Colin C', 'Chin SF', 'Choi SG', 'Colabella C', 'Coppin G', \"D'Amata C\", 'De Ridder D', 'De Rouck S', 'Duran-Frigola M', 'Ennajdaoui H', 'Goebels F', 'Goehring L', 'Gopal A', 'Haddad G', 'Hatchi E', 'Helmy M', 'Jacob Y', 'Kassa Y', 'Landini S', 'Li R', 'van Lieshout N', 'MacWilliams A', 'Markey D', 'Paulson JN', 'Rangarajan S', 'Rasla J', 'Rayhan A', 'Rolland T', 'San-Miguel A', 'Shen Y', 'Sheykhkarimli D', 'Sheynkman GM', 'Simonovsky E', 'Tasan M', 'Tejeda A', 'Tropepe V', 'Twizere JC', 'Wang Y', 'Weatheritt RJ', 'Weile J', 'Xia Y', 'Yang X', 'Yeger-Lotem E', 'Zhong Q', 'Aloy P', 'Bader GD', 'De Las Rivas J', 'Gaudet S', 'Hao T', 'Rak J', 'Tavernier J', 'Hill DE', 'Vidal M', 'Roth FP', 'Calderwood MA'], 'GBReference_title': 'A reference map of the human binary protein interactome', 'GBReference_journal': 'Nature 580 (7803), 402-408 (2020)', 'GBReference_xref': [{'GBXref_dbname': 'doi', 'GBXref_id': '10.1038/s41586-020-2188-x'}], 'GBReference_pubmed': '32296183'}, {'GBReference_reference': '2', 'GBReference_position': '1..340', 'GBReference_authors': ['Royer L', 'Herzog JJ', 'Kenny K', 'Tzvetkova B', 'Cochrane JC', 'Marr MT 2nd', 'Paradis S'], 'GBReference_title': 'The Ras-like GTPase Rem2 is a potent inhibitor of calcium/calmodulin-dependent kinase II activity', 'GBReference_journal': 'J Biol Chem 293 (38), 14798-14811 (2018)', 'GBReference_xref': [{'GBXref_dbname': 'doi', 'GBXref_id': '10.1074/jbc.RA118.003560'}], 'GBReference_pubmed': '30072381', 'GBReference_remark': 'GeneRIF: report that substitution of two key amino acid residues in the Rem2 N terminus (Arg-79 and Arg-80) completely abolishes its ability to inhibit CaMKII'}, {'GBReference_reference': '3', 'GBReference_position': '1..340', 'GBReference_authors': ['Chai S', 'Wan X', 'Ramirez-Navarro A', 'Tesar PJ', 'Kaufman ES', 'Ficker E', 'George AL Jr', 'Deschenes I'], 'GBReference_title': 'Physiological genomics identifies genetic modifiers of long QT syndrome type 2 severity', 'GBReference_journal': 'J Clin Invest 128 (3), 1043-1056 (2018)', 'GBReference_xref': [{'GBXref_dbname': 'doi', 'GBXref_id': '10.1172/JCI94996'}], 'GBReference_pubmed': '29431731', 'GBReference_remark': 'GeneRIF: 2 novel gene variants in REM2 and KCNK17 that provide a physiologically plausible explanation for variable expressivity in a large subset of patients in a multigenerational long QT syndrome type 2 family'}, {'GBReference_reference': '4', 'GBReference_position': '1..340', 'GBReference_authors': ['Yang X', 'Coulombe-Huntington J', 'Kang S', 'Sheynkman GM', 'Hao T', 'Richardson A', 'Sun S', 'Yang F', 'Shen YA', 'Murray RR', 'Spirohn K', 'Begg BE', 'Duran-Frigola M', 'MacWilliams A', 'Pevzner SJ', 'Zhong Q', 'Wanamaker SA', 'Tam S', 'Ghamsari L', 'Sahni N', 'Yi S', 'Rodriguez MD', 'Balcha D', 'Tan G', 'Costanzo M', 'Andrews B', 'Boone C', 'Zhou XJ', 'Salehi-Ashtiani K', 'Charloteaux B', 'Chen AA', 'Calderwood MA', 'Aloy P', 'Roth FP', 'Hill DE', 'Iakoucheva LM', 'Xia Y', 'Vidal M'], 'GBReference_title': 'Widespread Expansion of Protein Interaction Capabilities by Alternative Splicing', 'GBReference_journal': 'Cell 164 (4), 805-817 (2016)', 'GBReference_xref': [{'GBXref_dbname': 'doi', 'GBXref_id': '10.1016/j.cell.2016.01.029'}], 'GBReference_pubmed': '26871637'}, {'GBReference_reference': '5', 'GBReference_position': '1..340', 'GBReference_authors': ['Moore AR', 'Ghiretti AE', 'Paradis S'], 'GBReference_title': 'A loss-of-function analysis reveals that endogenous Rem2 promotes functional glutamatergic synapse formation and restricts dendritic complexity', 'GBReference_journal': 'PLoS One 8 (8), e74751 (2013)', 'GBReference_xref': [{'GBXref_dbname': 'doi', 'GBXref_id': '10.1371/journal.pone.0074751'}], 'GBReference_pubmed': '23991227', 'GBReference_remark': 'GeneRIF: conclude that endogenous Rem2 is a positive regulator of functional, excitatory synapse development and a negative regulator of dendritic complexity; Publication Status: Online-Only'}, {'GBReference_reference': '6', 'GBReference_position': '1..340', 'GBReference_authors': ['Ghiretti AE', 'Paradis S'], 'GBReference_title': 'The GTPase Rem2 regulates synapse development and dendritic morphology', 'GBReference_journal': 'Dev Neurobiol 71 (5), 374-389 (2011)', 'GBReference_xref': [{'GBXref_dbname': 'doi', 'GBXref_id': '10.1002/dneu.20868'}], 'GBReference_pubmed': '21485012', 'GBReference_remark': 'GeneRIF: our results suggest that Rem2 regulates dendritic branching and synapse development'}, {'GBReference_reference': '7', 'GBReference_position': '1..340', 'GBReference_authors': ['Edel MJ', 'Menchon C', 'Menendez S', 'Consiglio A', 'Raya A', 'Izpisua Belmonte JC'], 'GBReference_title': 'Rem2 GTPase maintains survival of human embryonic stem cells as well as enhancing reprogramming by regulating p53 and cyclin D1', 'GBReference_journal': 'Genes Dev 24 (6), 561-573 (2010)', 'GBReference_xref': [{'GBXref_dbname': 'doi', 'GBXref_id': '10.1101/gad.1876710'}], 'GBReference_pubmed': '20231315', 'GBReference_remark': 'GeneRIF: Rem2 mediates the fibroblastic growth factor 2 (FGF2) signaling pathway to maintain proliferation of hESCsby suppressing the transcriptional activity of p53 and cyclin D(1)'}, {'GBReference_reference': '8', 'GBReference_position': '1..340', 'GBReference_authors': ['Bierings R', 'Beato M', 'Edel MJ'], 'GBReference_title': 'An endothelial cell genetic screen identifies the GTPase Rem2 as a suppressor of p19ARF expression that promotes endothelial cell proliferation and angiogenesis', 'GBReference_journal': 'J Biol Chem 283 (7), 4408-4416 (2008)', 'GBReference_xref': [{'GBXref_dbname': 'doi', 'GBXref_id': '10.1074/jbc.M707438200'}], 'GBReference_pubmed': '18056257', 'GBReference_remark': 'GeneRIF: data unravel a possible molecular mechanism for Rem2-induced angiogenesis and suggests Rem2 as a potential novel target for treating pathological angiogenesis'}, {'GBReference_reference': '9', 'GBReference_position': '1..340', 'GBReference_authors': ['Finlin BS', 'Mosley AL', 'Crump SM', 'Correll RN', 'Ozcan S', 'Satin J', 'Andres DA'], 'GBReference_title': 'Regulation of L-type Ca2+ channel activity and insulin secretion by the Rem2 GTPase', 'GBReference_journal': 'J Biol Chem 280 (51), 41864-41871 (2005)', 'GBReference_xref': [{'GBXref_dbname': 'doi', 'GBXref_id': '10.1074/jbc.M414261200'}], 'GBReference_pubmed': '15728182', 'GBReference_remark': 'GeneRIF: inhibition of L-type Ca2+ channels by Rem2 signaling may represent a new and potentially important mechanism for regulating Ca2+-triggered exocytosis in hormone-secreting cells, including insulin secretion in pancreatic beta-cells'}, {'GBReference_reference': '10', 'GBReference_position': '1..340', 'GBReference_authors': ['Finlin BS', 'Shao H', 'Kadono-Okuda K', 'Guo N', 'Andres DA'], 'GBReference_title': 'Rem2, a new member of the Rem/Rad/Gem/Kir family of Ras-related GTPases', 'GBReference_journal': 'Biochem J 347 Pt 1 (Pt 1), 223-231 (2000)', 'GBReference_pubmed': '10727423'}], 'GBSeq_comment': 'VALIDATED REFSEQ: This record has undergone validation or preliminary review. The reference sequence was derived from AL135998.6, AK096283.1 and BC035663.1.; On Jan 27, 2007 this sequence version replaced NP_775798.1.; ~Publication Note: This RefSeq record includes a subset of the publications that are available for this gene. Please see the Gene record to access additional publications.; ##Evidence-Data-START## ; Transcript exon combination :: AK096283.1, BC035663.1 [ECO:0000332] ; RNAseq introns :: single sample supports all introns SAMEA1968968, SAMEA2145743 [ECO:0000348] ; ##Evidence-Data-END##; ##RefSeq-Attributes-START## ; MANE Ensembl match :: ENST00000267396.9/ ENSP00000267396.4 ; RefSeq Select criteria :: based on conservation, expression ; ##RefSeq-Attributes-END##', 'GBSeq_source-db': 'REFSEQ: accession NM_173527.3', 'GBSeq_feature-table': [{'GBFeature_key': 'source', 'GBFeature_location': '1..340', 'GBFeature_intervals': [{'GBInterval_from': '1', 'GBInterval_to': '340', 'GBInterval_accession': 'NP_775798.2'}], 'GBFeature_quals': [{'GBQualifier_name': 'organism', 'GBQualifier_value': 'Homo sapiens'}, {'GBQualifier_name': 'db_xref', 'GBQualifier_value': 'taxon:9606'}, {'GBQualifier_name': 'chromosome', 'GBQualifier_value': '14'}, {'GBQualifier_name': 'map', 'GBQualifier_value': '14q11.2'}]}, {'GBFeature_key': 'Protein', 'GBFeature_location': '1..340', 'GBFeature_intervals': [{'GBInterval_from': '1', 'GBInterval_to': '340', 'GBInterval_accession': 'NP_775798.2'}], 'GBFeature_quals': [{'GBQualifier_name': 'product', 'GBQualifier_value': 'GTP-binding protein REM 2'}, {'GBQualifier_name': 'EC_number', 'GBQualifier_value': '3.6.5.2'}, {'GBQualifier_name': 'note', 'GBQualifier_value': 'Rad and Gem-related 2 (rat homolog); rad and Gem-like GTP-binding protein 2; RAS-like GTP binding 2; RAS (RAD and GEM)-like GTP binding 2'}, {'GBQualifier_name': 'calculated_mol_wt', 'GBQualifier_value': '37008'}]}, {'GBFeature_key': 'Region', 'GBFeature_location': '1..107', 'GBFeature_intervals': [{'GBInterval_from': '1', 'GBInterval_to': '107', 'GBInterval_accession': 'NP_775798.2'}], 'GBFeature_quals': [{'GBQualifier_name': 'region_name', 'GBQualifier_value': 'Disordered. /evidence=ECO:0000256|SAM:MobiDB-lite'}, {'GBQualifier_name': 'note', 'GBQualifier_value': 'propagated from UniProtKB/Swiss-Prot (Q8IYK8.2)'}]}, {'GBFeature_key': 'Site', 'GBFeature_location': '27', 'GBFeature_intervals': [{'GBInterval_point': '27', 'GBInterval_accession': 'NP_775798.2'}], 'GBFeature_quals': [{'GBQualifier_name': 'site_type', 'GBQualifier_value': 'phosphorylation'}, {'GBQualifier_name': 'note', 'GBQualifier_value': 'Phosphoserine. /evidence=ECO:0000250|UniProtKB:Q9WTY2; propagated from UniProtKB/Swiss-Prot (Q8IYK8.2)'}]}, {'GBFeature_key': 'Region', 'GBFeature_location': '115..340', 'GBFeature_intervals': [{'GBInterval_from': '115', 'GBInterval_to': '340', 'GBInterval_accession': 'NP_775798.2'}], 'GBFeature_quals': [{'GBQualifier_name': 'region_name', 'GBQualifier_value': 'RGK'}, {'GBQualifier_name': 'note', 'GBQualifier_value': 'Rem, Rem2, Rad, Gem/Kir (RGK) subfamily of Ras GTPases; cd04148'}, {'GBQualifier_name': 'db_xref', 'GBQualifier_value': 'CDD:206715'}]}, {'GBFeature_key': 'Site', 'GBFeature_location': '121..128', 'GBFeature_intervals': [{'GBInterval_from': '121', 'GBInterval_to': '128', 'GBInterval_accession': 'NP_775798.2'}], 'GBFeature_quals': [{'GBQualifier_name': 'site_type', 'GBQualifier_value': 'other'}, {'GBQualifier_name': 'note', 'GBQualifier_value': 'G1 box'}, {'GBQualifier_name': 'db_xref', 'GBQualifier_value': 'CDD:206715'}]}, {'GBFeature_key': 'Site', 'GBFeature_location': 'order(122..123,171..172)', 'GBFeature_intervals': [{'GBInterval_from': '122', 'GBInterval_to': '123', 'GBInterval_accession': 'NP_775798.2'}, {'GBInterval_from': '171', 'GBInterval_to': '172', 'GBInterval_accession': 'NP_775798.2'}], 'GBFeature_operator': 'order', 'GBFeature_quals': [{'GBQualifier_name': 'site_type', 'GBQualifier_value': 'other'}, {'GBQualifier_name': 'note', 'GBQualifier_value': 'putative GDI interaction site [polypeptide binding]'}, {'GBQualifier_name': 'db_xref', 'GBQualifier_value': 'CDD:206715'}]}, {'GBFeature_key': 'Site', 'GBFeature_location': 'order(123..129,169,172,229..230,232,259..260)', 'GBFeature_intervals': [{'GBInterval_from': '123', 'GBInterval_to': '129', 'GBInterval_accession': 'NP_775798.2'}, {'GBInterval_point': '169', 'GBInterval_accession': 'NP_775798.2'}, {'GBInterval_point': '172', 'GBInterval_accession': 'NP_775798.2'}, {'GBInterval_from': '229', 'GBInterval_to': '230', 'GBInterval_accession': 'NP_775798.2'}, {'GBInterval_point': '232', 'GBInterval_accession': 'NP_775798.2'}, {'GBInterval_from': '259', 'GBInterval_to': '260', 'GBInterval_accession': 'NP_775798.2'}], 'GBFeature_operator': 'order', 'GBFeature_quals': [{'GBQualifier_name': 'site_type', 'GBQualifier_value': 'other'}, {'GBQualifier_name': 'note', 'GBQualifier_value': 'GTP/Mg2+ binding site [chemical binding]'}, {'GBQualifier_name': 'db_xref', 'GBQualifier_value': 'CDD:206715'}]}, {'GBFeature_key': 'Site', 'GBFeature_location': 'order(128..129,141,143,152..153,166..167,169,171..172,261)', 'GBFeature_intervals': [{'GBInterval_from': '128', 'GBInterval_to': '129', 'GBInterval_accession': 'NP_775798.2'}, {'GBInterval_point': '141', 'GBInterval_accession': 'NP_775798.2'}, {'GBInterval_point': '143', 'GBInterval_accession': 'NP_775798.2'}, {'GBInterval_from': '152', 'GBInterval_to': '153', 'GBInterval_accession': 'NP_775798.2'}, {'GBInterval_from': '166', 'GBInterval_to': '167', 'GBInterval_accession': 'NP_775798.2'}, {'GBInterval_point': '169', 'GBInterval_accession': 'NP_775798.2'}, {'GBInterval_from': '171', 'GBInterval_to': '172', 'GBInterval_accession': 'NP_775798.2'}, {'GBInterval_point': '261', 'GBInterval_accession': 'NP_775798.2'}], 'GBFeature_operator': 'order', 'GBFeature_quals': [{'GBQualifier_name': 'site_type', 'GBQualifier_value': 'other'}, {'GBQualifier_name': 'note', 'GBQualifier_value': 'putative GEF interaction site [polypeptide binding]'}, {'GBQualifier_name': 'db_xref', 'GBQualifier_value': 'CDD:206715'}]}, {'GBFeature_key': 'Site', 'GBFeature_location': 'order(142..143,150..153)', 'GBFeature_intervals': [{'GBInterval_from': '142', 'GBInterval_to': '143', 'GBInterval_accession': 'NP_775798.2'}, {'GBInterval_from': '150', 'GBInterval_to': '153', 'GBInterval_accession': 'NP_775798.2'}], 'GBFeature_operator': 'order', 'GBFeature_quals': [{'GBQualifier_name': 'site_type', 'GBQualifier_value': 'active'}, {'GBQualifier_name': 'note', 'GBQualifier_value': 'putative effector interaction site [active]'}, {'GBQualifier_name': 'db_xref', 'GBQualifier_value': 'CDD:206715'}]}, {'GBFeature_key': 'Site', 'GBFeature_location': 'order(142..147,149..152)', 'GBFeature_intervals': [{'GBInterval_from': '142', 'GBInterval_to': '147', 'GBInterval_accession': 'NP_775798.2'}, {'GBInterval_from': '149', 'GBInterval_to': '152', 'GBInterval_accession': 'NP_775798.2'}], 'GBFeature_operator': 'order', 'GBFeature_quals': [{'GBQualifier_name': 'site_type', 'GBQualifier_value': 'other'}, {'GBQualifier_name': 'note', 'GBQualifier_value': 'Switch I region'}, {'GBQualifier_name': 'db_xref', 'GBQualifier_value': 'CDD:206715'}]}, {'GBFeature_key': 'Site', 'GBFeature_location': '144', 'GBFeature_intervals': [{'GBInterval_point': '144', 'GBInterval_accession': 'NP_775798.2'}], 'GBFeature_quals': [{'GBQualifier_name': 'site_type', 'GBQualifier_value': 'other'}, {'GBQualifier_name': 'note', 'GBQualifier_value': 'G2 box'}, {'GBQualifier_name': 'db_xref', 'GBQualifier_value': 'CDD:206715'}]}, {'GBFeature_key': 'Site', 'GBFeature_location': '169..172', 'GBFeature_intervals': [{'GBInterval_from': '169', 'GBInterval_to': '172', 'GBInterval_accession': 'NP_775798.2'}], 'GBFeature_quals': [{'GBQualifier_name': 'site_type', 'GBQualifier_value': 'other'}, {'GBQualifier_name': 'note', 'GBQualifier_value': 'G3 box'}, {'GBQualifier_name': 'db_xref', 'GBQualifier_value': 'CDD:206715'}]}, {'GBFeature_key': 'Site', 'GBFeature_location': 'order(171..172,181..184,187..190)', 'GBFeature_intervals': [{'GBInterval_from': '171', 'GBInterval_to': '172', 'GBInterval_accession': 'NP_775798.2'}, {'GBInterval_from': '181', 'GBInterval_to': '184', 'GBInterval_accession': 'NP_775798.2'}, {'GBInterval_from': '187', 'GBInterval_to': '190', 'GBInterval_accession': 'NP_775798.2'}], 'GBFeature_operator': 'order', 'GBFeature_quals': [{'GBQualifier_name': 'site_type', 'GBQualifier_value': 'other'}, {'GBQualifier_name': 'note', 'GBQualifier_value': 'Switch II region'}, {'GBQualifier_name': 'db_xref', 'GBQualifier_value': 'CDD:206715'}]}, {'GBFeature_key': 'Site', 'GBFeature_location': '229..232', 'GBFeature_intervals': [{'GBInterval_from': '229', 'GBInterval_to': '232', 'GBInterval_accession': 'NP_775798.2'}], 'GBFeature_quals': [{'GBQualifier_name': 'site_type', 'GBQualifier_value': 'other'}, {'GBQualifier_name': 'note', 'GBQualifier_value': 'G4 box'}, {'GBQualifier_name': 'db_xref', 'GBQualifier_value': 'CDD:206715'}]}, {'GBFeature_key': 'Site', 'GBFeature_location': '259..261', 'GBFeature_intervals': [{'GBInterval_from': '259', 'GBInterval_to': '261', 'GBInterval_accession': 'NP_775798.2'}], 'GBFeature_quals': [{'GBQualifier_name': 'site_type', 'GBQualifier_value': 'other'}, {'GBQualifier_name': 'note', 'GBQualifier_value': 'G5 box'}, {'GBQualifier_name': 'db_xref', 'GBQualifier_value': 'CDD:206715'}]}, {'GBFeature_key': 'Region', 'GBFeature_location': '283..308', 'GBFeature_intervals': [{'GBInterval_from': '283', 'GBInterval_to': '308', 'GBInterval_accession': 'NP_775798.2'}], 'GBFeature_quals': [{'GBQualifier_name': 'region_name', 'GBQualifier_value': 'Disordered. /evidence=ECO:0000256|SAM:MobiDB-lite'}, {'GBQualifier_name': 'note', 'GBQualifier_value': 'propagated from UniProtKB/Swiss-Prot (Q8IYK8.2)'}]}, {'GBFeature_key': 'Site', 'GBFeature_location': '295', 'GBFeature_intervals': [{'GBInterval_point': '295', 'GBInterval_accession': 'NP_775798.2'}], 'GBFeature_quals': [{'GBQualifier_name': 'site_type', 'GBQualifier_value': 'phosphorylation'}, {'GBQualifier_name': 'note', 'GBQualifier_value': 'Phosphoserine. /evidence=ECO:0000250|UniProtKB:Q9WTY2; propagated from UniProtKB/Swiss-Prot (Q8IYK8.2)'}]}, {'GBFeature_key': 'Site', 'GBFeature_location': '334..337', 'GBFeature_intervals': [{'GBInterval_from': '334', 'GBInterval_to': '337', 'GBInterval_accession': 'NP_775798.2'}], 'GBFeature_quals': [{'GBQualifier_name': 'site_type', 'GBQualifier_value': 'other'}, {'GBQualifier_name': 'note', 'GBQualifier_value': 'putative lipid modification site [posttranslational modification]'}, {'GBQualifier_name': 'db_xref', 'GBQualifier_value': 'CDD:206715'}]}, {'GBFeature_key': 'CDS', 'GBFeature_location': '1..340', 'GBFeature_intervals': [{'GBInterval_from': '1', 'GBInterval_to': '340', 'GBInterval_accession': 'NP_775798.2'}], 'GBFeature_quals': [{'GBQualifier_name': 'gene', 'GBQualifier_value': 'REM2'}, {'GBQualifier_name': 'coded_by', 'GBQualifier_value': 'NM_173527.3:67..1089'}, {'GBQualifier_name': 'transl_table', 'GBQualifier_value': '1'}, {'GBQualifier_name': 'db_xref', 'GBQualifier_value': 'CCDS:CCDS45082.1'}, {'GBQualifier_name': 'db_xref', 'GBQualifier_value': 'GeneID:161253'}, {'GBQualifier_name': 'db_xref', 'GBQualifier_value': 'HGNC:HGNC:20248'}, {'GBQualifier_name': 'db_xref', 'GBQualifier_value': 'MIM:616955'}]}], 'GBSeq_sequence': 'mhtdldtdmdmdtettalcpsgsrrasppgtptpeadatllkksekllaeldrsglpsapgaprrrgsmpvpykhqlrraqavdeldwppqasssgssdslgsgeaapaqkdgifkvmlvgesgvgkstlagtfgglqgdsahepenpedtyerrimvdkeevtlvvydiweqgdaggwlrdhclqtgdaflivfsvtdrrsfskvpetllrlragrphhdlpvilvgnksdlarsrevsleegrhlagtlsckhietsaalhhntrelfegavrqirlrrgrnhaggqrpdpgspegpapparresltkkakrflanlvprnakffkqrsrschdlsvl'}"
      ]
     },
     "execution_count": 30,
     "metadata": {},
     "output_type": "execute_result"
    }
   ],
   "source": [
    "handle = Entrez.efetch(db=\"protein\", id=\"124248562\", rettype=\"gb\", retmode=\"xml\")\n",
    "record = Entrez.read(handle)\n",
    "handle.close()\n",
    "\n",
    "record[0]"
   ]
  },
  {
   "cell_type": "code",
   "execution_count": null,
   "id": "3de19bc0",
   "metadata": {},
   "outputs": [],
   "source": [
    "#r = {'is_claimed': 'True', 'rating': 3.5}\n",
    "json = json.dumps(record[0]) # note i gave it a different name\n",
    "file.write(json)"
   ]
  }
 ],
 "metadata": {
  "kernelspec": {
   "display_name": "Python 3 (ipykernel)",
   "language": "python",
   "name": "python3"
  },
  "language_info": {
   "codemirror_mode": {
    "name": "ipython",
    "version": 3
   },
   "file_extension": ".py",
   "mimetype": "text/x-python",
   "name": "python",
   "nbconvert_exporter": "python",
   "pygments_lexer": "ipython3",
   "version": "3.9.15"
  }
 },
 "nbformat": 4,
 "nbformat_minor": 5
}
