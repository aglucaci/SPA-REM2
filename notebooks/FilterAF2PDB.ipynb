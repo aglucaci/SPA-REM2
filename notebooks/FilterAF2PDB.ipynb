{
 "cells": [
  {
   "cell_type": "code",
   "execution_count": 2,
   "id": "dd913376-8d19-4d0d-9993-b99aeb0bf557",
   "metadata": {},
   "outputs": [],
   "source": [
    "# Imports\n",
    "import os\n",
    "import sys\n",
    "import json\n",
    "import pandas as pd\n",
    "import numpy as np\n",
    "import matplotlib.pyplot as plt\n"
   ]
  },
  {
   "cell_type": "code",
   "execution_count": null,
   "id": "7dad5ccb-e40a-4eb4-8ea4-abc3af7fe462",
   "metadata": {},
   "outputs": [],
   "source": []
  },
  {
   "cell_type": "code",
   "execution_count": 11,
   "id": "d0892c99-0b02-4a35-b053-c5436d32eb24",
   "metadata": {},
   "outputs": [],
   "source": [
    "# Declares\n",
    "\n",
    "pLDDT_Threshold = 50\n",
    "\n",
    "# Inputs\n",
    "inputJSON = os.path.join(\"..\", \n",
    "                         \"data\",\n",
    "                         \"NM_173527_3_Homo_sapiens_RRAD_and_GEM_like_GTPase_2_REM2_mRNA_1_scores_rank_001_alphafold2_ptm_model_2_seed_000.json\")\n",
    "\n",
    "inputPDB  = os.path.join(\"..\", \n",
    "                         \"data\",\n",
    "                         \"NM_173527_3_Homo_sapiens_RRAD_and_GEM_like_GTPase_2_REM2_mRNA_1_unrelaxed_rank_001_alphafold2_ptm_model_2_seed_000.pdb\")\n",
    "\n",
    "# Outputs\n",
    "outputPDB = os.path.join(\"..\", \n",
    "                        \"results\",\n",
    "                        \"NM_173527_3_Homo_sapiens_RRAD_and_GEM_like_GTPase_2_REM2_mRNA_1_unrelaxed_rank_001_alphafold2_ptm_model_2_seed_000.filtered.pdb\")\n"
   ]
  },
  {
   "cell_type": "code",
   "execution_count": 12,
   "id": "d12905f4-c293-4f05-a159-9f1b5a925068",
   "metadata": {},
   "outputs": [],
   "source": [
    "# Helper function\n",
    "\n",
    "def saveText(data, output):\n",
    "    with open(output, \"w\") as fh:\n",
    "        fh.write(data)\n",
    "    #end with\n",
    "#end method\n",
    "\n",
    "def GetFilteredSites(data, threshold):\n",
    "    \n",
    "    # Input pLDDT list\n",
    "    # Enumerates over it \n",
    "    sites = []\n",
    "    for n, item in enumerate(data):\n",
    "        if item > threshold:\n",
    "            sites.append(n+1)\n",
    "        #end if\n",
    "    #end for\n",
    "    return set(sites)\n"
   ]
  },
  {
   "cell_type": "code",
   "execution_count": 13,
   "id": "0bfbfb72-1cc3-48f8-b0ee-3d5bc08fb8cd",
   "metadata": {},
   "outputs": [],
   "source": [
    "# Command line args"
   ]
  },
  {
   "cell_type": "code",
   "execution_count": 14,
   "id": "57244b10-06c7-420d-a8b0-e1d32c489529",
   "metadata": {},
   "outputs": [],
   "source": [
    "# Questions\n",
    "\n",
    "# Are there gaps between the set or is it continuous?"
   ]
  },
  {
   "cell_type": "code",
   "execution_count": 20,
   "id": "fa5745bc-69c2-448f-b301-079264c873fc",
   "metadata": {},
   "outputs": [
    {
     "name": "stdout",
     "output_type": "stream",
     "text": [
      "# Input JSON: ../data/NM_173527_3_Homo_sapiens_RRAD_and_GEM_like_GTPase_2_REM2_mRNA_1_scores_rank_001_alphafold2_ptm_model_2_seed_000.json\n",
      "# Input PDB: ../data/NM_173527_3_Homo_sapiens_RRAD_and_GEM_like_GTPase_2_REM2_mRNA_1_unrelaxed_rank_001_alphafold2_ptm_model_2_seed_000.pdb\n"
     ]
    }
   ],
   "source": [
    "# Main\n",
    "\n",
    "print(\"# Input JSON:\", inputJSON)\n",
    "print(\"# Input PDB:\", inputPDB)\n",
    "\n",
    "# Get Sites set\n",
    "with open(inputJSON, 'rt') as fh:\n",
    "    jsonData = json.load(fh)\n",
    "#end with\n",
    "\n",
    "pLDDT = jsonData[\"plddt\"] \n",
    "\n",
    "PassedFilterSites = GetFilteredSites(pLDDT, pLDDT_Threshold)\n",
    "\n",
    "\n",
    "\n",
    "\n",
    "\n"
   ]
  },
  {
   "cell_type": "code",
   "execution_count": 23,
   "id": "6bad4ade-85a5-4bce-b63d-bd75b88fb066",
   "metadata": {},
   "outputs": [
    {
     "data": {
      "text/plain": [
       "{2,\n",
       " 3,\n",
       " 4,\n",
       " 5,\n",
       " 6,\n",
       " 7,\n",
       " 8,\n",
       " 9,\n",
       " 10,\n",
       " 11,\n",
       " 13,\n",
       " 15,\n",
       " 31,\n",
       " 33,\n",
       " 34,\n",
       " 35,\n",
       " 36,\n",
       " 37,\n",
       " 38,\n",
       " 39,\n",
       " 40,\n",
       " 41,\n",
       " 42,\n",
       " 43,\n",
       " 44,\n",
       " 45,\n",
       " 46,\n",
       " 47,\n",
       " 48,\n",
       " 49,\n",
       " 50,\n",
       " 52,\n",
       " 53,\n",
       " 54,\n",
       " 55,\n",
       " 63,\n",
       " 65,\n",
       " 66,\n",
       " 67,\n",
       " 164,\n",
       " 165,\n",
       " 166,\n",
       " 167,\n",
       " 168,\n",
       " 169,\n",
       " 170,\n",
       " 171,\n",
       " 172,\n",
       " 174,\n",
       " 175,\n",
       " 176,\n",
       " 177,\n",
       " 178,\n",
       " 179,\n",
       " 180,\n",
       " 181,\n",
       " 182,\n",
       " 183,\n",
       " 184,\n",
       " 185,\n",
       " 186,\n",
       " 187,\n",
       " 188,\n",
       " 189,\n",
       " 190,\n",
       " 191,\n",
       " 192,\n",
       " 193,\n",
       " 194,\n",
       " 195,\n",
       " 196,\n",
       " 197,\n",
       " 198,\n",
       " 199,\n",
       " 200,\n",
       " 201,\n",
       " 202,\n",
       " 203,\n",
       " 204,\n",
       " 205,\n",
       " 206,\n",
       " 207,\n",
       " 208,\n",
       " 209,\n",
       " 210,\n",
       " 211,\n",
       " 212,\n",
       " 213,\n",
       " 214,\n",
       " 215,\n",
       " 216,\n",
       " 217,\n",
       " 221,\n",
       " 222,\n",
       " 223,\n",
       " 224,\n",
       " 225,\n",
       " 226,\n",
       " 227,\n",
       " 228,\n",
       " 295,\n",
       " 296,\n",
       " 298}"
      ]
     },
     "execution_count": 23,
     "metadata": {},
     "output_type": "execute_result"
    }
   ],
   "source": [
    "PassedFilterSites"
   ]
  },
  {
   "cell_type": "code",
   "execution_count": null,
   "id": "ddc87f5d-308c-4bca-8234-9e32ce089b1c",
   "metadata": {},
   "outputs": [],
   "source": []
  },
  {
   "cell_type": "code",
   "execution_count": 35,
   "id": "f9750dc3-39fe-4be3-a03a-ebc01930fe79",
   "metadata": {},
   "outputs": [
    {
     "name": "stdout",
     "output_type": "stream",
     "text": [
      "# Saving resulting PDB to: ../results/NM_173527_3_Homo_sapiens_RRAD_and_GEM_like_GTPase_2_REM2_mRNA_1_unrelaxed_rank_001_alphafold2_ptm_model_2_seed_000.filtered.pdb\n"
     ]
    }
   ],
   "source": [
    "\n",
    "# Loop over PDB\n",
    "\n",
    "results = []\n",
    "\n",
    "\n",
    "with open(inputPDB, \"r\") as fh:\n",
    "    for line in fh.readlines():\n",
    "        #print([line])\n",
    "        data = [x for x in line.split(\" \") if x != \"\"]\n",
    "        #print(data)\n",
    "        if len(data) > 7:\n",
    "            residue = int(data[5])\n",
    "            if residue in PassedFilterSites:\n",
    "                results.append(line)\n",
    "            #end if\n",
    "        else:\n",
    "            continue\n",
    "        #end if\n",
    "    #end for\n",
    "#end with\n",
    "        \n",
    "        \n",
    "    \n",
    "\n",
    "#results = []\n",
    "\n",
    "print(\"# Saving resulting PDB to:\", outputPDB)\n",
    "saveText(\"\".join(results), outputPDB)"
   ]
  },
  {
   "cell_type": "code",
   "execution_count": 29,
   "id": "7de99dad-e097-4d8e-a40d-efa7c764900b",
   "metadata": {},
   "outputs": [
    {
     "data": {
      "text/plain": [
       "['END', '\\n']"
      ]
     },
     "execution_count": 29,
     "metadata": {},
     "output_type": "execute_result"
    }
   ],
   "source": [
    "data"
   ]
  },
  {
   "cell_type": "code",
   "execution_count": null,
   "id": "cf6a30d9-23b5-4cc3-a2b4-fc11b0387e48",
   "metadata": {},
   "outputs": [],
   "source": []
  },
  {
   "cell_type": "code",
   "execution_count": 17,
   "id": "dd293945-9334-46cd-90cd-009e8bf6880d",
   "metadata": {},
   "outputs": [
    {
     "data": {
      "text/plain": [
       "{2,\n",
       " 3,\n",
       " 4,\n",
       " 5,\n",
       " 6,\n",
       " 7,\n",
       " 8,\n",
       " 9,\n",
       " 10,\n",
       " 11,\n",
       " 13,\n",
       " 15,\n",
       " 31,\n",
       " 33,\n",
       " 34,\n",
       " 35,\n",
       " 36,\n",
       " 37,\n",
       " 38,\n",
       " 39,\n",
       " 40,\n",
       " 41,\n",
       " 42,\n",
       " 43,\n",
       " 44,\n",
       " 45,\n",
       " 46,\n",
       " 47,\n",
       " 48,\n",
       " 49,\n",
       " 50,\n",
       " 52,\n",
       " 53,\n",
       " 54,\n",
       " 55,\n",
       " 63,\n",
       " 65,\n",
       " 66,\n",
       " 67,\n",
       " 164,\n",
       " 165,\n",
       " 166,\n",
       " 167,\n",
       " 168,\n",
       " 169,\n",
       " 170,\n",
       " 171,\n",
       " 172,\n",
       " 174,\n",
       " 175,\n",
       " 176,\n",
       " 177,\n",
       " 178,\n",
       " 179,\n",
       " 180,\n",
       " 181,\n",
       " 182,\n",
       " 183,\n",
       " 184,\n",
       " 185,\n",
       " 186,\n",
       " 187,\n",
       " 188,\n",
       " 189,\n",
       " 190,\n",
       " 191,\n",
       " 192,\n",
       " 193,\n",
       " 194,\n",
       " 195,\n",
       " 196,\n",
       " 197,\n",
       " 198,\n",
       " 199,\n",
       " 200,\n",
       " 201,\n",
       " 202,\n",
       " 203,\n",
       " 204,\n",
       " 205,\n",
       " 206,\n",
       " 207,\n",
       " 208,\n",
       " 209,\n",
       " 210,\n",
       " 211,\n",
       " 212,\n",
       " 213,\n",
       " 214,\n",
       " 215,\n",
       " 216,\n",
       " 217,\n",
       " 221,\n",
       " 222,\n",
       " 223,\n",
       " 224,\n",
       " 225,\n",
       " 226,\n",
       " 227,\n",
       " 228,\n",
       " 295,\n",
       " 296,\n",
       " 298}"
      ]
     },
     "execution_count": 17,
     "metadata": {},
     "output_type": "execute_result"
    }
   ],
   "source": [
    "PassedFilterSites"
   ]
  },
  {
   "cell_type": "code",
   "execution_count": 19,
   "id": "55cb2b0d-cf7a-4ff1-aa8e-d5162f2fdd2f",
   "metadata": {},
   "outputs": [],
   "source": [
    "#pLDDT"
   ]
  },
  {
   "cell_type": "code",
   "execution_count": null,
   "id": "6022b103-0d02-40b1-b8fc-d78f6b72fec8",
   "metadata": {},
   "outputs": [],
   "source": []
  },
  {
   "cell_type": "code",
   "execution_count": null,
   "id": "3593b664-b538-4b95-b92a-5ec28db39ffd",
   "metadata": {},
   "outputs": [],
   "source": []
  },
  {
   "cell_type": "code",
   "execution_count": null,
   "id": "7c86c12e-80a7-4464-b177-2fe2cf196a5b",
   "metadata": {},
   "outputs": [],
   "source": []
  }
 ],
 "metadata": {
  "kernelspec": {
   "display_name": "Python 3 (ipykernel)",
   "language": "python",
   "name": "python3"
  },
  "language_info": {
   "codemirror_mode": {
    "name": "ipython",
    "version": 3
   },
   "file_extension": ".py",
   "mimetype": "text/x-python",
   "name": "python",
   "nbconvert_exporter": "python",
   "pygments_lexer": "ipython3",
   "version": "3.9.16"
  }
 },
 "nbformat": 4,
 "nbformat_minor": 5
}
